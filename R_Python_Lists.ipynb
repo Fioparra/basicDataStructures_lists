{
 "cells": [
  {
   "cell_type": "markdown",
   "metadata": {
    "id": "dCNCKJGxzErY"
   },
   "source": [
    "<a href=\"https://imgur.com/6U6q5jQ\"><img src=\"https://i.imgur.com/6U6q5jQ.png\" title=\"source: imgur.com\" /></a>"
   ]
  },
  {
   "cell_type": "markdown",
   "metadata": {
    "id": "Bb5P9oBJtWgi"
   },
   "source": [
    "\n",
    "# Lists in R and Python"
   ]
  },
  {
   "cell_type": "code",
   "execution_count": 1,
   "metadata": {
    "id": "CQ0-6XdK5Sre"
   },
   "outputs": [],
   "source": [
    "## if needed, run this and RESTART KERNEL\n",
    "# import os\n",
    "# os.environ['R_HOME'] ='/Library/Frameworks/R.framework/Resources'"
   ]
  },
  {
   "cell_type": "code",
   "execution_count": 2,
   "metadata": {
    "id": "oo3FOXWP6ewM"
   },
   "outputs": [],
   "source": [
    "%load_ext rpy2.ipython"
   ]
  },
  {
   "cell_type": "markdown",
   "metadata": {
    "id": "ix7xtYzM7GsE"
   },
   "source": [
    "## 1. Creating"
   ]
  },
  {
   "cell_type": "code",
   "execution_count": 3,
   "metadata": {
    "id": "GHJeUsWetWgm"
   },
   "outputs": [],
   "source": [
    "namesP=[\"Qing\", \"Françoise\", \"Raúl\", \"Bjork\",\"Marie\",\"Jim\",\"Tere\",\"Tina\"]\n",
    "agesP=[32,33,28,30,29,33,34,27]\n",
    "countryP=[\"China\", \"Senegal\", \"España\", \"Norway\",\"Korea\",\"USA\",\"Bolivia\",\"Portugal\"]\n",
    "educationP=[\"Bach\", \"Bach\", \"Master\", \"PhD\",\"PhD\", \"Master\",\"Master\",\"PhD\"]"
   ]
  },
  {
   "cell_type": "code",
   "execution_count": 4,
   "metadata": {
    "id": "kHOybyYs7bt3"
   },
   "outputs": [
    {
     "data": {
      "text/plain": [
       "list"
      ]
     },
     "execution_count": 4,
     "metadata": {},
     "output_type": "execute_result"
    }
   ],
   "source": [
    "type(namesP)"
   ]
  },
  {
   "cell_type": "code",
   "execution_count": 5,
   "metadata": {
    "id": "bYQ8wWNQ6rSt"
   },
   "outputs": [
    {
     "data": {
      "text/plain": [
       "['Qing', 'Françoise', 'Raúl', 'Bjork', 'Marie', 'Jim', 'Tere', 'Tina']"
      ]
     },
     "execution_count": 5,
     "metadata": {},
     "output_type": "execute_result"
    }
   ],
   "source": [
    "namesP"
   ]
  },
  {
   "cell_type": "code",
   "execution_count": 6,
   "metadata": {
    "id": "dUxYQK6F5lks"
   },
   "outputs": [],
   "source": [
    "%%R\n",
    "namesR=list(\"Qing\", \"Françoise\", \"Raúl\", \"Bjork\",\"Marie\",\"Jim\",\"Tere\",\"Tina\")\n",
    "agesR=list(32,33,28,30,29,33,34,27)\n",
    "countryR=list(\"China\", \"Senegal\", \"España\", \"Norway\",\"Korea\",\"USA\",\"Bolivia\",\"Portugal\")\n",
    "educationR=list(\"Bach\", \"Bach\", \"Master\", \"PhD\",\"PhD\", \"Master\",\"Master\",\"PhD\")"
   ]
  },
  {
   "cell_type": "code",
   "execution_count": 7,
   "metadata": {
    "id": "RSJyun677gMs"
   },
   "outputs": [
    {
     "name": "stdout",
     "output_type": "stream",
     "text": [
      "[1] \"list\"\n"
     ]
    }
   ],
   "source": [
    "%%R\n",
    "typeof(namesR)"
   ]
  },
  {
   "cell_type": "code",
   "execution_count": 8,
   "metadata": {
    "id": "9h7K4xpm6lzE"
   },
   "outputs": [
    {
     "name": "stdout",
     "output_type": "stream",
     "text": [
      "[[1]]\n",
      "[1] \"Qing\"\n",
      "\n",
      "[[2]]\n",
      "[1] \"Françoise\"\n",
      "\n",
      "[[3]]\n",
      "[1] \"Raúl\"\n",
      "\n",
      "[[4]]\n",
      "[1] \"Bjork\"\n",
      "\n",
      "[[5]]\n",
      "[1] \"Marie\"\n",
      "\n",
      "[[6]]\n",
      "[1] \"Jim\"\n",
      "\n",
      "[[7]]\n",
      "[1] \"Tere\"\n",
      "\n",
      "[[8]]\n",
      "[1] \"Tina\"\n",
      "\n"
     ]
    }
   ],
   "source": [
    "%%R\n",
    "namesR"
   ]
  },
  {
   "cell_type": "markdown",
   "metadata": {
    "id": "_y7hce_8tWgr"
   },
   "source": [
    "## 2. Accessing"
   ]
  },
  {
   "cell_type": "code",
   "execution_count": 9,
   "metadata": {
    "id": "Hp4CogsCtWgr"
   },
   "outputs": [
    {
     "data": {
      "text/plain": [
       "32"
      ]
     },
     "execution_count": 9,
     "metadata": {},
     "output_type": "execute_result"
    }
   ],
   "source": [
    "# Keep in mind the positions in Python start in **0**.\n",
    "agesP[0]"
   ]
  },
  {
   "cell_type": "code",
   "execution_count": 10,
   "metadata": {
    "id": "LcIBAZEr7ml_"
   },
   "outputs": [
    {
     "data": {
      "text/plain": [
       "int"
      ]
     },
     "execution_count": 10,
     "metadata": {},
     "output_type": "execute_result"
    }
   ],
   "source": [
    "type(agesP[0])"
   ]
  },
  {
   "cell_type": "code",
   "execution_count": 11,
   "metadata": {
    "id": "bZalkSyg7ozY"
   },
   "outputs": [
    {
     "name": "stdout",
     "output_type": "stream",
     "text": [
      "[1] 32\n"
     ]
    }
   ],
   "source": [
    "%%R\n",
    "agesR[[1]]"
   ]
  },
  {
   "cell_type": "code",
   "execution_count": 12,
   "metadata": {
    "id": "Z_DmJ2Cj7qic"
   },
   "outputs": [
    {
     "name": "stdout",
     "output_type": "stream",
     "text": [
      "[1] \"double\"\n"
     ]
    }
   ],
   "source": [
    "%%R\n",
    "typeof(agesR[[1]])"
   ]
  },
  {
   "cell_type": "code",
   "execution_count": 13,
   "metadata": {
    "id": "hvaThvo_8-ZB"
   },
   "outputs": [
    {
     "name": "stdout",
     "output_type": "stream",
     "text": [
      "[[1]]\n",
      "[1] 32\n",
      "\n"
     ]
    }
   ],
   "source": [
    "%%R\n",
    "agesR[1]"
   ]
  },
  {
   "cell_type": "code",
   "execution_count": 14,
   "metadata": {
    "id": "1tUwi0-M82fp"
   },
   "outputs": [
    {
     "name": "stdout",
     "output_type": "stream",
     "text": [
      "[1] \"list\"\n"
     ]
    }
   ],
   "source": [
    "%%R\n",
    "typeof(agesR[1])"
   ]
  },
  {
   "cell_type": "code",
   "execution_count": 15,
   "metadata": {
    "id": "MuQtAvsH-rJw"
   },
   "outputs": [
    {
     "data": {
      "text/plain": [
       "'Portugal'"
      ]
     },
     "execution_count": 15,
     "metadata": {},
     "output_type": "execute_result"
    }
   ],
   "source": [
    "#last element\n",
    "countryP[-1]"
   ]
  },
  {
   "cell_type": "code",
   "execution_count": 16,
   "metadata": {
    "id": "Ffzl7qci-yzx"
   },
   "outputs": [
    {
     "name": "stdout",
     "output_type": "stream",
     "text": [
      "[[1]]\n",
      "[1] \"Portugal\"\n",
      "\n"
     ]
    }
   ],
   "source": [
    "%%R\n",
    "tail(countryR,1)"
   ]
  },
  {
   "cell_type": "markdown",
   "metadata": {
    "id": "hAq14dMo8TnG"
   },
   "source": [
    "### Slices"
   ]
  },
  {
   "cell_type": "code",
   "execution_count": 17,
   "metadata": {
    "id": "pa7c_1M1tWgv"
   },
   "outputs": [
    {
     "data": {
      "text/plain": [
       "[33, 28, 30]"
      ]
     },
     "execution_count": 17,
     "metadata": {},
     "output_type": "execute_result"
    }
   ],
   "source": [
    "# consecutive\n",
    "agesP[1:4] #second to fourth"
   ]
  },
  {
   "cell_type": "code",
   "execution_count": 18,
   "metadata": {
    "id": "AF942YnF8yc9"
   },
   "outputs": [
    {
     "name": "stdout",
     "output_type": "stream",
     "text": [
      "[[1]]\n",
      "[1] 33\n",
      "\n",
      "[[2]]\n",
      "[1] 28\n",
      "\n",
      "[[3]]\n",
      "[1] 30\n",
      "\n"
     ]
    }
   ],
   "source": [
    "%%R\n",
    "agesR[2:4]"
   ]
  },
  {
   "cell_type": "code",
   "execution_count": 19,
   "metadata": {
    "id": "XSO50xLN9MZB"
   },
   "outputs": [
    {
     "data": {
      "text/plain": [
       "[33, 30, 33, 27]"
      ]
     },
     "execution_count": 19,
     "metadata": {},
     "output_type": "execute_result"
    }
   ],
   "source": [
    "# non consecutive with step or pattern\n",
    "agesP[1:8:2] # second to eight step 2"
   ]
  },
  {
   "cell_type": "code",
   "execution_count": 20,
   "metadata": {
    "id": "J5V5_Cxl_Avj"
   },
   "outputs": [
    {
     "name": "stdout",
     "output_type": "stream",
     "text": [
      "[[1]]\n",
      "[1] 33\n",
      "\n",
      "[[2]]\n",
      "[1] 30\n",
      "\n",
      "[[3]]\n",
      "[1] 33\n",
      "\n",
      "[[4]]\n",
      "[1] 27\n",
      "\n"
     ]
    }
   ],
   "source": [
    "%%R\n",
    "agesR[seq(2,8,2)]"
   ]
  },
  {
   "cell_type": "code",
   "execution_count": 21,
   "metadata": {
    "id": "p8h88eUjtWg1"
   },
   "outputs": [
    {
     "data": {
      "text/plain": [
       "[32, 28, 30]"
      ]
     },
     "execution_count": 21,
     "metadata": {},
     "output_type": "execute_result"
    }
   ],
   "source": [
    "# non consecutive without step or pattern\n",
    "keepIndex=[0, 2, 3]\n",
    "[agesP[i] for i in keepIndex]\n"
   ]
  },
  {
   "cell_type": "code",
   "execution_count": 22,
   "metadata": {
    "id": "c8RpFx1dAEmz"
   },
   "outputs": [
    {
     "name": "stdout",
     "output_type": "stream",
     "text": [
      "[[1]]\n",
      "[1] 32\n",
      "\n",
      "[[2]]\n",
      "[1] 28\n",
      "\n",
      "[[3]]\n",
      "[1] 30\n",
      "\n"
     ]
    }
   ],
   "source": [
    "%%R\n",
    "agesR[c(1,3,4)]"
   ]
  },
  {
   "cell_type": "markdown",
   "metadata": {
    "id": "3HdLpDektWg6"
   },
   "source": [
    "## Replacing"
   ]
  },
  {
   "cell_type": "markdown",
   "metadata": {
    "id": "W9tJhxjeBMyX"
   },
   "source": [
    "### by Position"
   ]
  },
  {
   "cell_type": "code",
   "execution_count": 23,
   "metadata": {
    "id": "Q5mtP1j8tWg7"
   },
   "outputs": [
    {
     "data": {
      "text/plain": [
       "['China', 'Senegal', 'Spain', 'Norway', 'Korea', 'USA', 'Bolivia', 'Portugal']"
      ]
     },
     "execution_count": 23,
     "metadata": {},
     "output_type": "execute_result"
    }
   ],
   "source": [
    "countryP[2]=\"Spain\"\n",
    "\n",
    "# list changed:\n",
    "countryP"
   ]
  },
  {
   "cell_type": "code",
   "execution_count": 24,
   "metadata": {
    "id": "Bq1cr1VPBRJz"
   },
   "outputs": [
    {
     "name": "stdout",
     "output_type": "stream",
     "text": [
      "[[1]]\n",
      "[1] \"China\"\n",
      "\n",
      "[[2]]\n",
      "[1] \"Senegal\"\n",
      "\n",
      "[[3]]\n",
      "[1] \"Spain\"\n",
      "\n",
      "[[4]]\n",
      "[1] \"Norway\"\n",
      "\n",
      "[[5]]\n",
      "[1] \"Korea\"\n",
      "\n",
      "[[6]]\n",
      "[1] \"USA\"\n",
      "\n",
      "[[7]]\n",
      "[1] \"Bolivia\"\n",
      "\n",
      "[[8]]\n",
      "[1] \"Portugal\"\n",
      "\n"
     ]
    }
   ],
   "source": [
    "%%R\n",
    "countryR[[3]]=\"Spain\"\n",
    "\n",
    "# list changed:\n",
    "countryR"
   ]
  },
  {
   "cell_type": "markdown",
   "metadata": {
    "id": "i3KudD3Don96"
   },
   "source": [
    "### By Value"
   ]
  },
  {
   "cell_type": "code",
   "execution_count": 25,
   "metadata": {
    "id": "Nf9PJWMjqiNI"
   },
   "outputs": [
    {
     "data": {
      "text/plain": [
       "['PR China',\n",
       " 'Senegal',\n",
       " 'Spain',\n",
       " 'Norway',\n",
       " 'Korea',\n",
       " 'USA',\n",
       " 'Bolivia',\n",
       " 'Portugal']"
      ]
     },
     "execution_count": 25,
     "metadata": {},
     "output_type": "execute_result"
    }
   ],
   "source": [
    "\n",
    "countryP[countryP==\"China\"]=\"PR China\"\n",
    "countryP"
   ]
  },
  {
   "cell_type": "code",
   "execution_count": 26,
   "metadata": {
    "id": "ZozgXyECpjy2"
   },
   "outputs": [
    {
     "name": "stdout",
     "output_type": "stream",
     "text": [
      "[[1]]\n",
      "[1] \"PR China\"\n",
      "\n",
      "[[2]]\n",
      "[1] \"Senegal\"\n",
      "\n",
      "[[3]]\n",
      "[1] \"Spain\"\n",
      "\n",
      "[[4]]\n",
      "[1] \"Norway\"\n",
      "\n",
      "[[5]]\n",
      "[1] \"Korea\"\n",
      "\n",
      "[[6]]\n",
      "[1] \"USA\"\n",
      "\n",
      "[[7]]\n",
      "[1] \"Bolivia\"\n",
      "\n",
      "[[8]]\n",
      "[1] \"Portugal\"\n",
      "\n"
     ]
    }
   ],
   "source": [
    "%%R\n",
    "countryR[countryR=='China']=\"PR China\"\n",
    "countryR"
   ]
  },
  {
   "cell_type": "markdown",
   "metadata": {
    "id": "_CF8wYu0tWhH"
   },
   "source": [
    "## Deleting"
   ]
  },
  {
   "cell_type": "markdown",
   "metadata": {
    "id": "bjYzRXv2rB2r"
   },
   "source": [
    "### By Position"
   ]
  },
  {
   "cell_type": "code",
   "execution_count": 27,
   "metadata": {
    "id": "ghWSnmzftWhH"
   },
   "outputs": [
    {
     "data": {
      "text/plain": [
       "['PR China', 'Senegal', 'Spain', 'Norway', 'Korea', 'USA', 'Bolivia']"
      ]
     },
     "execution_count": 27,
     "metadata": {},
     "output_type": "execute_result"
    }
   ],
   "source": [
    "del countryP[-1] #last value\n",
    "\n",
    "# list changed:\n",
    "countryP"
   ]
  },
  {
   "cell_type": "code",
   "execution_count": 28,
   "metadata": {
    "id": "h6UsIzY5tIgY"
   },
   "outputs": [
    {
     "name": "stdout",
     "output_type": "stream",
     "text": [
      "[[1]]\n",
      "[1] \"PR China\"\n",
      "\n",
      "[[2]]\n",
      "[1] \"Senegal\"\n",
      "\n",
      "[[3]]\n",
      "[1] \"Spain\"\n",
      "\n",
      "[[4]]\n",
      "[1] \"Norway\"\n",
      "\n",
      "[[5]]\n",
      "[1] \"Korea\"\n",
      "\n",
      "[[6]]\n",
      "[1] \"USA\"\n",
      "\n",
      "[[7]]\n",
      "[1] \"Bolivia\"\n",
      "\n"
     ]
    }
   ],
   "source": [
    "%%R\n",
    "countryR[length(countryR)]=NULL\n",
    "countryR"
   ]
  },
  {
   "cell_type": "code",
   "execution_count": 29,
   "metadata": {
    "id": "EVla5Ov2tWhM"
   },
   "outputs": [
    {
     "data": {
      "text/plain": [
       "[1, 5, 6]"
      ]
     },
     "execution_count": 29,
     "metadata": {},
     "output_type": "execute_result"
    }
   ],
   "source": [
    "# 'del' works for several positions\n",
    "\n",
    "listP=[1,2,3,4,5,6]\n",
    "del listP[1:4]\n",
    "\n",
    "#now:\n",
    "listP"
   ]
  },
  {
   "cell_type": "code",
   "execution_count": 30,
   "metadata": {
    "id": "hquozQUutoXe"
   },
   "outputs": [
    {
     "name": "stdout",
     "output_type": "stream",
     "text": [
      "[[1]]\n",
      "[1] 1\n",
      "\n",
      "[[2]]\n",
      "[1] 5\n",
      "\n",
      "[[3]]\n",
      "[1] 6\n",
      "\n"
     ]
    }
   ],
   "source": [
    "%%R\n",
    "\n",
    "listR=list(1,2,3,4,5,6)\n",
    "listR[2:4]=NULL\n",
    "\n",
    "#now:\n",
    "listR"
   ]
  },
  {
   "cell_type": "code",
   "execution_count": 31,
   "metadata": {
    "id": "4Sc0LyKDuJoz"
   },
   "outputs": [
    {
     "data": {
      "text/plain": [
       "[10, 30, 50]"
      ]
     },
     "execution_count": 31,
     "metadata": {},
     "output_type": "execute_result"
    }
   ],
   "source": [
    "# non consecutive\n",
    "listP=[10,11,30,33,50,55]\n",
    "byeIndex=[1, 3, 5]\n",
    "listP=[listP[i] for i in range(len(listP)) if not i in byeIndex]\n",
    "listP"
   ]
  },
  {
   "cell_type": "code",
   "execution_count": 32,
   "metadata": {
    "id": "A38KkgtGvpdv"
   },
   "outputs": [
    {
     "name": "stdout",
     "output_type": "stream",
     "text": [
      "[[1]]\n",
      "[1] 11\n",
      "\n",
      "[[2]]\n",
      "[1] 33\n",
      "\n",
      "[[3]]\n",
      "[1] 55\n",
      "\n"
     ]
    }
   ],
   "source": [
    "%%R\n",
    "listR=list(11,22,33,44,55,66)\n",
    "listR[c(2,4,6)]=NULL\n",
    "listR"
   ]
  },
  {
   "cell_type": "markdown",
   "metadata": {
    "id": "rz-SxbVDyI_5"
   },
   "source": [
    "### by Value"
   ]
  },
  {
   "cell_type": "code",
   "execution_count": 33,
   "metadata": {
    "id": "kQCwXCw3tWhO"
   },
   "outputs": [
    {
     "data": {
      "text/plain": [
       "[1, 45, 'b', 'a']"
      ]
     },
     "execution_count": 33,
     "metadata": {},
     "output_type": "execute_result"
    }
   ],
   "source": [
    "# by value\n",
    "listP=[1,'a',45,'b','a']\n",
    "listP.remove('a')\n",
    "\n",
    "# list changed:\n",
    "listP # just first ocurrence of value!!"
   ]
  },
  {
   "cell_type": "code",
   "execution_count": 34,
   "metadata": {
    "id": "GUi3v8hqtWhU"
   },
   "outputs": [
    {
     "data": {
      "text/plain": [
       "[1, 45, 'b']"
      ]
     },
     "execution_count": 34,
     "metadata": {},
     "output_type": "execute_result"
    }
   ],
   "source": [
    "# deleting every  value:\n",
    "\n",
    "listP=[1,'a',45,'b','a']\n",
    "listP=[p for p in listP if not p in ['a']]\n",
    "\n",
    "# you get:\n",
    "listP"
   ]
  },
  {
   "cell_type": "code",
   "execution_count": 35,
   "metadata": {
    "id": "fSrbGThNzuxk"
   },
   "outputs": [
    {
     "name": "stdout",
     "output_type": "stream",
     "text": [
      "[[1]]\n",
      "[1] 1\n",
      "\n",
      "[[2]]\n",
      "[1] 45\n",
      "\n",
      "[[3]]\n",
      "[1] \"b\"\n",
      "\n"
     ]
    }
   ],
   "source": [
    "%%R\n",
    "\n",
    "listR=list(1,'a',45,'b','a')\n",
    "listR=listR[!listR %in% list('a')]\n",
    "listR\n"
   ]
  },
  {
   "cell_type": "markdown",
   "metadata": {
    "id": "JzcKbpXptWhX"
   },
   "source": [
    "## Inserting values"
   ]
  },
  {
   "cell_type": "code",
   "execution_count": 36,
   "metadata": {
    "id": "or5OmtestWhY"
   },
   "outputs": [
    {
     "data": {
      "text/plain": [
       "[1, 'a', 45, 'b', 'a', 'cde']"
      ]
     },
     "execution_count": 36,
     "metadata": {},
     "output_type": "execute_result"
    }
   ],
   "source": [
    "# at the end\n",
    "listP=[1,'a',45,'b','a']\n",
    "listP.append(\"cde\")\n",
    "listP"
   ]
  },
  {
   "cell_type": "code",
   "execution_count": 37,
   "metadata": {
    "id": "QCiOC5fG3O42"
   },
   "outputs": [
    {
     "name": "stdout",
     "output_type": "stream",
     "text": [
      "[[1]]\n",
      "[1] 1\n",
      "\n",
      "[[2]]\n",
      "[1] \"a\"\n",
      "\n",
      "[[3]]\n",
      "[1] 45\n",
      "\n",
      "[[4]]\n",
      "[1] \"b\"\n",
      "\n",
      "[[5]]\n",
      "[1] \"a\"\n",
      "\n",
      "[[6]]\n",
      "[1] \"cde\"\n",
      "\n"
     ]
    }
   ],
   "source": [
    "%%R\n",
    "listR=list(1,'a',45,'b','a')\n",
    "listR=append(listR,'cde')\n",
    "listR"
   ]
  },
  {
   "cell_type": "code",
   "execution_count": 38,
   "metadata": {
    "id": "GB4IycLs32Ya"
   },
   "outputs": [
    {
     "data": {
      "text/plain": [
       "[1, 'a', 'cde', 45, 'b', 'a']"
      ]
     },
     "execution_count": 38,
     "metadata": {},
     "output_type": "execute_result"
    }
   ],
   "source": [
    "# specific position\n",
    "listP=[1,'a',45,'b','a']\n",
    "listP.insert(2,\"cde\")\n",
    "listP"
   ]
  },
  {
   "cell_type": "code",
   "execution_count": 39,
   "metadata": {
    "id": "IcP2en363_ii"
   },
   "outputs": [
    {
     "name": "stdout",
     "output_type": "stream",
     "text": [
      "[[1]]\n",
      "[1] 1\n",
      "\n",
      "[[2]]\n",
      "[1] \"a\"\n",
      "\n",
      "[[3]]\n",
      "[1] \"cde\"\n",
      "\n",
      "[[4]]\n",
      "[1] 45\n",
      "\n",
      "[[5]]\n",
      "[1] \"b\"\n",
      "\n",
      "[[6]]\n",
      "[1] \"a\"\n",
      "\n"
     ]
    }
   ],
   "source": [
    "%%R\n",
    "listR=list(1,'a',45,'b','a')\n",
    "listR=append(listR,'cde',after=2)\n",
    "listR"
   ]
  },
  {
   "cell_type": "markdown",
   "metadata": {
    "id": "ceqfkORcK9vt"
   },
   "source": [
    "## Concatenating"
   ]
  },
  {
   "cell_type": "code",
   "execution_count": 40,
   "metadata": {
    "id": "4nFczku8K_3k"
   },
   "outputs": [
    {
     "data": {
      "text/plain": [
       "[1, 2, 3, 'a', 'b', 'c']"
      ]
     },
     "execution_count": 40,
     "metadata": {},
     "output_type": "execute_result"
    }
   ],
   "source": [
    "listA_P=[1,2,3]\n",
    "listB_P=['a', 'b', 'c']\n",
    "listA_P + listB_P"
   ]
  },
  {
   "cell_type": "code",
   "execution_count": 41,
   "metadata": {
    "id": "gvCtdID3bgm-"
   },
   "outputs": [
    {
     "data": {
      "text/plain": [
       "[1, 2, 3, 'a', 'b', 'c']"
      ]
     },
     "execution_count": 41,
     "metadata": {},
     "output_type": "execute_result"
    }
   ],
   "source": [
    "listA2_P=[1,2,3]\n",
    "listB2_P=['a', 'b', 'c']\n",
    "listA2_P.extend(listB2_P)\n",
    "listA2_P"
   ]
  },
  {
   "cell_type": "code",
   "execution_count": 42,
   "metadata": {
    "id": "hajS5MgJLRj9"
   },
   "outputs": [
    {
     "name": "stdout",
     "output_type": "stream",
     "text": [
      "[[1]]\n",
      "[1] 1\n",
      "\n",
      "[[2]]\n",
      "[1] 2\n",
      "\n",
      "[[3]]\n",
      "[1] 3\n",
      "\n",
      "[[4]]\n",
      "[1] \"a\"\n",
      "\n",
      "[[5]]\n",
      "[1] \"b\"\n",
      "\n",
      "[[6]]\n",
      "[1] \"c\"\n",
      "\n"
     ]
    }
   ],
   "source": [
    "%%R\n",
    "listA_R=list(1,2,3)\n",
    "listB_R=list('a', 'b', 'c')\n",
    "append(listA_R, listB_R)"
   ]
  },
  {
   "cell_type": "code",
   "execution_count": 43,
   "metadata": {
    "id": "buD_S1X6MUje"
   },
   "outputs": [
    {
     "data": {
      "text/plain": [
       "[1, 2, 3, ['a', 'b', 'c']]"
      ]
     },
     "execution_count": 43,
     "metadata": {},
     "output_type": "execute_result"
    }
   ],
   "source": [
    "#notice\n",
    "listA1_P=[1,2,3]\n",
    "listB1_P=['a', 'b', 'c']\n",
    "listA1_P.append(listB1_P)\n",
    "listA1_P"
   ]
  },
  {
   "cell_type": "code",
   "execution_count": 44,
   "metadata": {
    "id": "MxaH2JXNLggB"
   },
   "outputs": [
    {
     "name": "stdout",
     "output_type": "stream",
     "text": [
      "[[1]]\n",
      "[1] 1\n",
      "\n",
      "[[2]]\n",
      "[1] 2\n",
      "\n",
      "[[3]]\n",
      "[1] 3\n",
      "\n",
      "[[4]]\n",
      "[[4]][[1]]\n",
      "[1] \"a\"\n",
      "\n",
      "[[4]][[2]]\n",
      "[1] \"b\"\n",
      "\n",
      "[[4]][[3]]\n",
      "[1] \"c\"\n",
      "\n",
      "\n"
     ]
    }
   ],
   "source": [
    "%%R\n",
    "append(listA_R, list(listB_R))"
   ]
  }
 ],
 "metadata": {
  "anaconda-cloud": {
   "attach-environment": true,
   "summary": "test"
  },
  "colab": {
   "provenance": [],
   "toc_visible": true
  },
  "hide_input": false,
  "kernelspec": {
   "display_name": "Python 3 (ipykernel)",
   "language": "python",
   "name": "python3"
  },
  "language_info": {
   "codemirror_mode": {
    "name": "ipython",
    "version": 3
   },
   "file_extension": ".py",
   "mimetype": "text/x-python",
   "name": "python",
   "nbconvert_exporter": "python",
   "pygments_lexer": "ipython3",
   "version": "3.12.0"
  }
 },
 "nbformat": 4,
 "nbformat_minor": 4
}
